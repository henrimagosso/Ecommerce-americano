{
 "cells": [
  {
   "cell_type": "markdown",
   "metadata": {
    "id": "2xcKXdd3WR17"
   },
   "source": [
    "# **MÓDULO 26 - Projeto Final do Aprofundamento de Analytics**"
   ]
  },
  {
   "cell_type": "markdown",
   "metadata": {
    "id": "JawTVJK2W-9v"
   },
   "source": [
    "Bem-vindos ao Projeto de Dashboard de E-commerce! Este projeto é uma oportunidade para vocês aplicarem habilidades essenciais de análise de dados em um cenário prático e realista. Vocês irão trabalhar com um conjunto de dados de transações de clientes de uma loja virtual, distribuídos em duas tabelas distintas. O objetivo final é construir um dashboard interativo que facilite a visualização e análise das informações relevantes do e-commerce, utilizando ferramentas como Looker Studio ou Power BI."
   ]
  },
  {
   "cell_type": "markdown",
   "metadata": {
    "id": "6_UQwlRYXJnG"
   },
   "source": [
    "**Objetivo do Projeto:**\n",
    "\n",
    "Tratamento de Dados: Realizar a junção (JOIN) de duas tabelas utilizando SQL para consolidar as informações.\n",
    "Análise de Dados: Exportar os dados resultantes para um arquivo CSV.\n",
    "Visualização de Dados: Desenvolver um dashboard interativo e informativo para visualização das principais métricas e insights do e-commerce."
   ]
  },
  {
   "cell_type": "markdown",
   "metadata": {
    "id": "70syl2pLXQ28"
   },
   "source": [
    "**Tabelas Disponibilizadas:**\n",
    "\n",
    "**Tabela de Transações:** Contém os registros de transações realizadas pelos clientes, incluindo detalhes como ID da transação, valor e outros.\n",
    "\n",
    "\n",
    "**Tabela de Dados Pessoais:** Contém as informações pessoais dos clientes, como ID do cliente, nome, genero, cidade, etc.\n",
    "\n",
    "**Chave de Ligação:** As tabelas se relacionam através da coluna ID_CLIENT, que é a chave identificadora dos clientes."
   ]
  },
  {
   "cell_type": "markdown",
   "metadata": {
    "id": "xkLSMEBoXeYT"
   },
   "source": [
    "# Etapas do Projeto:\n",
    "\n",
    "1. Realizar um JOIN SQL nas duas tabelas, unificando as informações através da coluna ID_CLIENT. Você deve justificar a escolha do JOIN (Inner/ Left/ Right ou Full).\n",
    "\n",
    "2. Exportar os dados consolidados resultantes do JOIN para um arquivo CSV.\n",
    "\n",
    "3. Utilizar Looker Studio ou Power BI para importar o arquivo CSV.\n",
    "\n",
    "4. Criar visualizações interativas que apresentem métricas importantes, como total de vendas, número de transações, distribuição geográfica dos clientes, perfil demográfico dos clientes, entre outros."
   ]
  },
  {
   "cell_type": "code",
   "execution_count": 2,
   "metadata": {
    "id": "5_Mqh988V-Tf"
   },
   "outputs": [],
   "source": [
    "import sqlite3 \n",
    "import pandas as pd"
   ]
  },
  {
   "cell_type": "markdown",
   "metadata": {
    "id": "lRVU4Dl_X0V4"
   },
   "source": [
    "Abaixo temos a configuração do ambiente SQL:"
   ]
  },
  {
   "cell_type": "code",
   "execution_count": 3,
   "metadata": {
    "id": "JNEitpAKYJfJ"
   },
   "outputs": [],
   "source": [
    "df_transacoes = pd.read_csv(\"TB_TRANSACOES_PROJETO_ECOMM.csv\", delimiter=';')\n",
    "df_clientes = pd.read_csv(\"TB_CLIENTES_PROJETO_ECOMM.csv\", delimiter=';')\n",
    "df_transacoes.rename(columns={'Card Type': 'Card_Type'}, inplace=True)\n",
    "df_transacoes.rename(columns={'id_client': 'Id_client'}, inplace=True)\n",
    "df_clientes.rename(columns={'state_name': 'State_name'}, inplace=True)"
   ]
  },
  {
   "cell_type": "code",
   "execution_count": 4,
   "metadata": {
    "colab": {
     "base_uri": "https://localhost:8080/"
    },
    "id": "WnmPtyP6YReh",
    "outputId": "7d1bb95d-1026-417a-d93e-033b91c69be8"
   },
   "outputs": [
    {
     "data": {
      "text/plain": [
       "175"
      ]
     },
     "execution_count": 4,
     "metadata": {},
     "output_type": "execute_result"
    }
   ],
   "source": [
    "conn = sqlite3.connect('projeto.db')\n",
    "# Carregar o DataFrame no banco de dados SQLite - criando tb_transacoes e tb_clientes\n",
    "df_transacoes.to_sql('tb_transacoes', conn, index=False, if_exists='replace')\n",
    "df_clientes.to_sql('tb_clientes', conn, index=False, if_exists='replace')\n"
   ]
  },
  {
   "cell_type": "code",
   "execution_count": 16,
   "metadata": {
    "id": "pMOeIO95Yfm4"
   },
   "outputs": [],
   "source": [
    "# Função para executar consultas SQL e retornar o resultado como um DataFrame\n",
    "def run_query(query):\n",
    "    return pd.read_sql_query(query, conn)"
   ]
  },
  {
   "cell_type": "code",
   "execution_count": 17,
   "metadata": {
    "id": "lMSQyM6qaIEu"
   },
   "outputs": [
    {
     "name": "stdout",
     "output_type": "stream",
     "text": [
      "     Id_client     Category   Price   Card_Type State_name First_name  \\\n",
      "0           37  Electronics   72,93  mastercard         ND     Cornie   \n",
      "1           38      Jewelry  121,89  mastercard         PA        Rab   \n",
      "2           39         Baby    64,3  mastercard         MA      Codie   \n",
      "3           40     Outdoors    9,48  mastercard         OR      Scott   \n",
      "4            5     Outdoors   61,95  mastercard         MN     Tanney   \n",
      "..         ...          ...     ...         ...        ...        ...   \n",
      "291        120         Baby   24,97  mastercard         NY      Dougy   \n",
      "292        121     Clothing  145,64  mastercard         OH     Bartel   \n",
      "293        122     Clothing   46,16  mastercard         KS      Inigo   \n",
      "294        123        Books   39,03  mastercard         VA       Ross   \n",
      "295        124       Health  142,63  mastercard         DC       Saul   \n",
      "\n",
      "          Gender                      Job_Title  \n",
      "0    Genderqueer                         Editor  \n",
      "1           Male              Assistant Manager  \n",
      "2         Female              Financial Analyst  \n",
      "3         Female                 Civil Engineer  \n",
      "4         Female                   VP Marketing  \n",
      "..           ...                            ...  \n",
      "291         Male    Computer Systems Analyst IV  \n",
      "292       Female                        Actuary  \n",
      "293       Female          Programmer Analyst II  \n",
      "294         Male  Analog Circuit Design manager  \n",
      "295       Female                   VP Marketing  \n",
      "\n",
      "[296 rows x 8 columns]\n"
     ]
    }
   ],
   "source": [
    "query = \"\"\"\n",
    "SELECT\n",
    "    t.Id_client,\n",
    "    t.Category,\n",
    "    t.Price,\n",
    "    t.Card_Type,\n",
    "    c.State_name,\n",
    "    c.First_name,\n",
    "    c.Gender,\n",
    "    c.Job_Title\n",
    "FROM\n",
    "    tb_transacoes AS t \n",
    "INNER JOIN\n",
    "    tb_clientes AS c ON t.id_client = c.id_client\n",
    "\n",
    "\"\"\"\n",
    "result_df = run_query(query)\n",
    "print(result_df)"
   ]
  },
  {
   "cell_type": "markdown",
   "metadata": {
    "id": "PfsVPMwQZlNe"
   },
   "source": [
    "Justifique a escolha do JOIN: Acredito que todos os JOIN's poderiam ter sido aplicados, optei pelo INNER pois após rápida padronização de dados tinhamos a coluna 'Id_client' em ambas as tabelas."
   ]
  },
  {
   "cell_type": "markdown",
   "metadata": {
    "id": "ca7R_MgCZ2eh"
   },
   "source": [
    "Exportando o arquivo como CSV:"
   ]
  },
  {
   "cell_type": "code",
   "execution_count": 18,
   "metadata": {},
   "outputs": [
    {
     "name": "stdout",
     "output_type": "stream",
     "text": [
      "Valores únicos da coluna 'Category' no DataFrame Pandas:\n",
      "['Electronics' 'Jewelry' 'Baby' 'Outdoors' 'Beauty' 'Games' 'Shoes'\n",
      " 'Computers' 'Grocery' 'Sports' 'Toys' 'Music' 'Tools' 'Clothing'\n",
      " 'Industrial' 'Home' 'Books' 'Movies' 'Health' 'Automotive' 'Kids'\n",
      " 'Garden']\n"
     ]
    }
   ],
   "source": [
    "print(\"Valores únicos da coluna 'Category' no DataFrame Pandas:\")\n",
    "print(df_transacoes['Category'].unique())"
   ]
  },
  {
   "cell_type": "code",
   "execution_count": 21,
   "metadata": {
    "id": "06eFgBSpZ4Xh"
   },
   "outputs": [],
   "source": [
    "result_df.to_csv('dados_ecommerce_final.csv', index=False, sep=';', encoding='utf-8')"
   ]
  },
  {
   "cell_type": "markdown",
   "metadata": {
    "id": "yWnbq4nraMNv"
   },
   "source": [
    "**Dicas para o projeto:**\n",
    "- Se atente que, como o mesmo cliente realiza mais de 1 transação quando você for trazer alguma métrica relacionada a dados do cliente terá que utilizar o distinct para criar essas métricas no dashboard, se não acabará tendo os dados repetidos.\n",
    "\n",
    "- Análise sua tabela, entenda a dimensão dos dados, no excel, antes de enviar para o Powerbi ou Looker Studio.\n",
    "\n",
    "- Tente montar preveamente um roteiro de quais métricas e visualizações irá colocar no dashboard, isso tornará seu processo mais rápido.\n",
    "\n",
    "- Qualquer dificuldade para subir sua base para as ferramentas de visualização envie a base e o erro encontrado para que os tutores possam te ajudar."
   ]
  },
  {
   "cell_type": "code",
   "execution_count": null,
   "metadata": {},
   "outputs": [],
   "source": []
  }
 ],
 "metadata": {
  "colab": {
   "provenance": []
  },
  "kernelspec": {
   "display_name": "Python 3 (ipykernel)",
   "language": "python",
   "name": "python3"
  },
  "language_info": {
   "codemirror_mode": {
    "name": "ipython",
    "version": 3
   },
   "file_extension": ".py",
   "mimetype": "text/x-python",
   "name": "python",
   "nbconvert_exporter": "python",
   "pygments_lexer": "ipython3",
   "version": "3.13.4"
  }
 },
 "nbformat": 4,
 "nbformat_minor": 4
}
